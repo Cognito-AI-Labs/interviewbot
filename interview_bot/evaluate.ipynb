{
 "cells": [
  {
   "cell_type": "code",
   "execution_count": 18,
   "metadata": {},
   "outputs": [],
   "source": [
    "import boto3\n",
    "import json\n",
    "import os\n",
    "session = boto3.Session(profile_name=os.environ['AWS_PROFILE'])\n",
    "s3 = session.client('s3')\n",
    "\n",
    "bucket_name = 'interview-transcripts-bucket'\n",
    "key = 'interviewtranscripts/647119219494_20250530-144827.json'\n",
    "\n",
    "response = s3.get_object(Bucket=bucket_name, Key=key)\n",
    "transcript_data = json.loads(response['Body'].read().decode('utf-8'))\n"
   ]
  },
  {
   "cell_type": "code",
   "execution_count": 19,
   "metadata": {},
   "outputs": [],
   "source": [
    "from pydantic import BaseModel, Field\n",
    "from typing import List, Dict\n",
    "class QuestionAssessment(BaseModel):\n",
    "    question: str = Field(..., description=\"The question asked during the interview.\")\n",
    "    candidate_response: str = Field(..., description=\"The response provided by the candidate.\")\n",
    "    answer_correctness: str = Field(..., description=\"Yes/No indicating whether the response was correct.\")\n",
    "    feedback: str = Field(..., description=\"Feedback on the response.\")\n",
    "\n",
    "class TopicEvaluation(BaseModel):\n",
    "    topic: str = Field(..., description=\"The topic being assessed.\")\n",
    "    assessments: List[QuestionAssessment] = Field(..., description=\"List of question assessments for this topic.\")\n",
    "\n",
    "class InterviewEvaluation(BaseModel):\n",
    "    topics: List[TopicEvaluation] = Field(..., description=\"List of topics with assessments.\")"
   ]
  },
  {
   "cell_type": "code",
   "execution_count": 20,
   "metadata": {},
   "outputs": [],
   "source": [
    "import os\n",
    "from dotenv import load_dotenv\n",
    "load_dotenv()\n",
    "import requests\n",
    "import json\n",
    "from google import genai\n",
    "from dotenv import load_dotenv\n",
    "import os\n",
    "import json\n",
    "import pandas as pd\n",
    "api_key = os.getenv('GOOGLE_API_KEY')\n",
    "def evaluate_transcript(transcript):\n",
    "        evaluation_prompt = f\"\"\"\n",
    "            # Technical Interview Evaluation Task\n",
    "            ## Interview Transcript\n",
    "            {transcript}\n",
    "            ## Evaluation Instructions:\n",
    "            Analyze this technical interview transcript and provide a structured evaluation of the candidate's performance.\n",
    "            1. Carefully review the candidate's responses based on the questions in the transcript.\n",
    "            2. For each question, determine if it was answered correctly (Yes/No).\n",
    "            3. Assess:\n",
    "            - Technical accuracy and understanding.\n",
    "            4. Generate a structured report categorized by topics\n",
    "            \"\"\"\n",
    "\n",
    "        client = genai.Client(api_key=api_key)\n",
    "        model_response = client.models.generate_content(\n",
    "        model='gemini-2.0-flash',\n",
    "        contents=evaluation_prompt,\n",
    "        config={\n",
    "            'response_mime_type': 'application/json',\n",
    "            'response_schema': InterviewEvaluation,\n",
    "        }\n",
    "        )\n",
    "        return model_response"
   ]
  },
  {
   "cell_type": "code",
   "execution_count": 21,
   "metadata": {},
   "outputs": [],
   "source": [
    "response = evaluate_transcript(transcript_data)"
   ]
  },
  {
   "cell_type": "code",
   "execution_count": 22,
   "metadata": {},
   "outputs": [],
   "source": [
    "evaluation = json.loads(response.text)\n",
    "data = []\n",
    "for topic in evaluation['topics']:\n",
    "    for assessment in topic['assessments']:\n",
    "        data.append({\n",
    "            \"Topic\": topic['topic'],\n",
    "            \"Question\": assessment['question'],\n",
    "            \"Candidate Response\": assessment['candidate_response'],\n",
    "            \"Answer Correctness\": assessment['answer_correctness'],\n",
    "            \"Feedback\": assessment['feedback']\n",
    "        })\n",
    "pd.set_option('display.max_colwidth', None)\n",
    "df = pd.DataFrame(data)\n",
    "output_file = 'result'\n",
    "output_file_name = f'{output_file}.csv'\n",
    "df.to_csv(output_file_name, index=False)"
   ]
  }
 ],
 "metadata": {
  "kernelspec": {
   "display_name": ".venv",
   "language": "python",
   "name": "python3"
  },
  "language_info": {
   "codemirror_mode": {
    "name": "ipython",
    "version": 3
   },
   "file_extension": ".py",
   "mimetype": "text/x-python",
   "name": "python",
   "nbconvert_exporter": "python",
   "pygments_lexer": "ipython3",
   "version": "3.13.2"
  }
 },
 "nbformat": 4,
 "nbformat_minor": 2
}
