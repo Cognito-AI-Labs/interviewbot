{
 "cells": [
  {
   "cell_type": "code",
   "execution_count": 1,
   "metadata": {},
   "outputs": [
    {
     "name": "stdout",
     "output_type": "stream",
     "text": [
      "564862808001\n"
     ]
    }
   ],
   "source": [
    "import boto3\n",
    "import random\n",
    "import os\n",
    "from dotenv import load_dotenv\n",
    "\n",
    "load_dotenv()\n",
    "\n",
    "AWS_REGION = os.getenv(\"AWS_REGION\")\n",
    "TABLE_NAME = os.getenv(\"DYNAMODB_TABLE\")\n",
    "\n",
    "session = boto3.Session(profile_name=\"hrbot\")\n",
    "dynamodb = session.resource(\"dynamodb\", region_name=\"us-east-1\")\n",
    "table = dynamodb.Table(TABLE_NAME)\n",
    "\n",
    "def generate_code():\n",
    "    return ''.join([str(random.randint(0, 9)) for _ in range(12)])\n",
    "\n",
    "def code_exists(code):\n",
    "    response = table.get_item(Key={\"code\": code})\n",
    "    return \"Item\" in response\n",
    "\n",
    "def save_code(code):\n",
    "    table.put_item(Item={\"code\": code, \"used\": False})\n",
    "\n",
    "\n",
    "for _ in range(5):  \n",
    "    code = generate_code()\n",
    "    if not code_exists(code):\n",
    "        save_code(code)\n",
    "        break\n",
    "print(code)\n",
    "   \n"
   ]
  }
 ],
 "metadata": {
  "kernelspec": {
   "display_name": ".venv",
   "language": "python",
   "name": "python3"
  },
  "language_info": {
   "codemirror_mode": {
    "name": "ipython",
    "version": 3
   },
   "file_extension": ".py",
   "mimetype": "text/x-python",
   "name": "python",
   "nbconvert_exporter": "python",
   "pygments_lexer": "ipython3",
   "version": "3.12.3"
  }
 },
 "nbformat": 4,
 "nbformat_minor": 2
}
